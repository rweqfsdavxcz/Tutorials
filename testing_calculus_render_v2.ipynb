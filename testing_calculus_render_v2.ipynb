{
  "nbformat": 4,
  "nbformat_minor": 0,
  "metadata": {
    "colab": {
      "name": "testing_calculus_render.ipynb",
      "provenance": [],
      "authorship_tag": "ABX9TyM5OyZENxm8u922un0RA30F",
      "include_colab_link": true
    },
    "kernelspec": {
      "name": "python3",
      "display_name": "Python 3"
    }
  },
  "cells": [
    {
      "cell_type": "markdown",
      "metadata": {
        "id": "view-in-github",
        "colab_type": "text"
      },
      "source": [
        "<a href=\"https://colab.research.google.com/github/rweqfsdavxcz/Tutorials/blob/master/testing_calculus_render_v2.ipynb\" target=\"_parent\"><img src=\"https://colab.research.google.com/assets/colab-badge.svg\" alt=\"Open In Colab\"/></a>"
      ]
    },
    {
      "cell_type": "markdown",
      "metadata": {
        "id": "2TH-aMywvuc-",
        "colab_type": "text"
      },
      "source": [
        "\\begin{align*}\n",
        "    &\\int_{sub}^{sup} f(x) \\; dx\\\\\n",
        "    &\\int\\limits_a^b\\\\\n",
        "    &\\int\\limits\\_a^b\\\\\n",
        "    &\\iint_A^B f(x,y) \\;dx\\;dy\n",
        "\\end{align*}"
      ]
    },
    {
      "cell_type": "markdown",
      "metadata": {
        "id": "paWpFfh8wura",
        "colab_type": "text"
      },
      "source": [
        "Spacer  cell"
      ]
    },
    {
      "cell_type": "markdown",
      "metadata": {
        "id": "opE4pPKSwpwL",
        "colab_type": "text"
      },
      "source": [
        "\\begin{align*}\n",
        "&\\int_{sub}^{sup} f(x) \\; dx\\\\\n",
        "&\\int\\limits_a^b\\\\\n",
        "&\\int\\limits\\_a^b\\\\\n",
        "&\\iint_A^B f(x,y) \\;dx\\;dy\n",
        "\\end{align*}"
      ]
    },
    {
      "cell_type": "code",
      "metadata": {
        "id": "ch8DA4ROwoGz",
        "colab_type": "code",
        "colab": {}
      },
      "source": [
        ""
      ],
      "execution_count": 0,
      "outputs": []
    }
  ]
}