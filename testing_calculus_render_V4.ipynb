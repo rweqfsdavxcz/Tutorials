{
  "nbformat": 4,
  "nbformat_minor": 0,
  "metadata": {
    "colab": {
      "name": "testing_calculus_render.ipynb",
      "provenance": [],
      "authorship_tag": "ABX9TyNV8jomU/hxWiKGDFJwek6C",
      "include_colab_link": true
    },
    "kernelspec": {
      "name": "python3",
      "display_name": "Python 3"
    }
  },
  "cells": [
    {
      "cell_type": "markdown",
      "metadata": {
        "id": "view-in-github",
        "colab_type": "text"
      },
      "source": [
        "<a href=\"https://colab.research.google.com/github/rweqfsdavxcz/Tutorials/blob/master/testing_calculus_render_V4.ipynb\" target=\"_parent\"><img src=\"https://colab.research.google.com/assets/colab-badge.svg\" alt=\"Open In Colab\"/></a>"
      ]
    },
    {
      "cell_type": "markdown",
      "metadata": {
        "id": "2TH-aMywvuc-",
        "colab_type": "text"
      },
      "source": [
        "words up here\n",
        "\n",
        "\\begin{align*}\n",
        "    &\\int_{sub}^{sup} f(x) \\; dx\\\\\n",
        "    &\\int\\limits_a^b\\\\\n",
        "    &\\int\\limits\\_a^b\\\\\n",
        "    &\\iint_A^B f(x,y) \\;dx\\;dy\n",
        "\\end{align*}\n",
        "\n",
        "and words down here"
      ]
    },
    {
      "cell_type": "markdown",
      "metadata": {
        "id": "paWpFfh8wura",
        "colab_type": "text"
      },
      "source": [
        "Spacer  cell"
      ]
    },
    {
      "cell_type": "markdown",
      "metadata": {
        "id": "opE4pPKSwpwL",
        "colab_type": "text"
      },
      "source": [
        "words up here\n",
        "\n",
        "\\begin{align*}\n",
        "&\\int_{sub}^{sup} f(x) \\; dx\\\\\n",
        "&\\int\\limits_a^b\\\\\n",
        "&\\int\\limits\\_a^b\\\\\n",
        "&\\iint_A^B f(x,y) \\;dx\\;dy\n",
        "\\end{align*}\n",
        "\n",
        "and down here"
      ]
    },
    {
      "cell_type": "code",
      "metadata": {
        "id": "ch8DA4ROwoGz",
        "colab_type": "code",
        "colab": {
          "base_uri": "https://localhost:8080/",
          "height": 34
        },
        "outputId": "1adcf1ee-06cd-46fc-8a92-7880b3254ec3"
      },
      "source": [
        "print(\"hello, world\")"
      ],
      "execution_count": 1,
      "outputs": [
        {
          "output_type": "stream",
          "text": [
            "hello, world\n"
          ],
          "name": "stdout"
        }
      ]
    },
    {
      "cell_type": "code",
      "metadata": {
        "id": "-e7drYtbzhEp",
        "colab_type": "code",
        "colab": {}
      },
      "source": [
        ""
      ],
      "execution_count": 0,
      "outputs": []
    }
  ]
}